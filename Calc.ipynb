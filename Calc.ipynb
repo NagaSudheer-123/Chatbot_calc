{
  "nbformat": 4,
  "nbformat_minor": 0,
  "metadata": {
    "colab": {
      "name": "Calc.ipynb",
      "provenance": []
    },
    "kernelspec": {
      "name": "python3",
      "display_name": "Python 3"
    },
    "language_info": {
      "name": "python"
    }
  },
  "cells": [
    {
      "cell_type": "code",
      "metadata": {
        "colab": {
          "base_uri": "https://localhost:8080/"
        },
        "id": "i-W4PGDCBDZJ",
        "outputId": "119ac137-32e9-4289-a401-f57df1ef6347"
      },
      "source": [
        "pip install chatterbot"
      ],
      "execution_count": 1,
      "outputs": [
        {
          "output_type": "stream",
          "text": [
            "Collecting chatterbot\n",
            "\u001b[?25l  Downloading https://files.pythonhosted.org/packages/7c/21/85c2b114bd9dfabdd46ba58fc4519acdaed45d8c70898d40079e37a45e67/ChatterBot-1.0.8-py2.py3-none-any.whl (63kB)\n",
            "\r\u001b[K     |█████▏                          | 10kB 17.0MB/s eta 0:00:01\r\u001b[K     |██████████▎                     | 20kB 23.2MB/s eta 0:00:01\r\u001b[K     |███████████████▌                | 30kB 12.2MB/s eta 0:00:01\r\u001b[K     |████████████████████▋           | 40kB 9.6MB/s eta 0:00:01\r\u001b[K     |█████████████████████████▊      | 51kB 8.2MB/s eta 0:00:01\r\u001b[K     |███████████████████████████████ | 61kB 8.6MB/s eta 0:00:01\r\u001b[K     |████████████████████████████████| 71kB 5.5MB/s \n",
            "\u001b[?25hRequirement already satisfied: pytz in /usr/local/lib/python3.7/dist-packages (from chatterbot) (2018.9)\n",
            "Requirement already satisfied: python-dateutil<2.9,>=2.8 in /usr/local/lib/python3.7/dist-packages (from chatterbot) (2.8.1)\n",
            "Collecting mathparse<0.2,>=0.1\n",
            "  Downloading https://files.pythonhosted.org/packages/c3/e5/4910fb85950cb960fcf3f5aabe1c8e55f5c9201788a1c1302b570a7e1f84/mathparse-0.1.2-py3-none-any.whl\n",
            "Collecting sqlalchemy<1.4,>=1.3\n",
            "\u001b[?25l  Downloading https://files.pythonhosted.org/packages/31/44/a86070dda790ce94cd7d9fb9281cd614c7d30850ed774ace9a84d0d5d491/SQLAlchemy-1.3.24-cp37-cp37m-manylinux2010_x86_64.whl (1.3MB)\n",
            "\u001b[K     |████████████████████████████████| 1.3MB 7.8MB/s \n",
            "\u001b[?25hRequirement already satisfied: six>=1.5 in /usr/local/lib/python3.7/dist-packages (from python-dateutil<2.9,>=2.8->chatterbot) (1.15.0)\n",
            "Installing collected packages: mathparse, sqlalchemy, chatterbot\n",
            "  Found existing installation: SQLAlchemy 1.4.7\n",
            "    Uninstalling SQLAlchemy-1.4.7:\n",
            "      Successfully uninstalled SQLAlchemy-1.4.7\n",
            "Successfully installed chatterbot-1.0.8 mathparse-0.1.2 sqlalchemy-1.3.24\n"
          ],
          "name": "stdout"
        }
      ]
    },
    {
      "cell_type": "code",
      "metadata": {
        "id": "S4Dd1TxJBJ5v"
      },
      "source": [
        ""
      ],
      "execution_count": null,
      "outputs": []
    },
    {
      "cell_type": "code",
      "metadata": {
        "colab": {
          "base_uri": "https://localhost:8080/"
        },
        "id": "E8ScnnyB6iuu",
        "outputId": "cd1d06af-d1f5-433d-a279-c2717b915fcd"
      },
      "source": [
        "from chatterbot import ChatBot\n",
        "\n",
        "# naming the ChatBot calculator\n",
        "# using mathematical evaluation logic\n",
        "# the calculator AI will not learn with the user input\n",
        "Bot = ChatBot(name = 'Calculator',\n",
        "                read_only = True,                  \n",
        "                logic_adapters = [\"chatterbot.logic.MathematicalEvaluation\"],                 \n",
        "                storage_adapter = \"chatterbot.storage.SQLStorageAdapter\")\n",
        "    \n",
        "\n",
        "# clear the screen and start the calculator\n",
        "print('\\033c')\n",
        "print(\"Hello, I am a calculator. How may I help you?\")\n",
        "while (True):\n",
        "    # take the input from the user\n",
        "    user_input = input(\"me: \")\n",
        "    \n",
        "    # check if the user has typed quit to exit the prgram   \n",
        "    if user_input.lower() == 'quit':\n",
        "        print(\"Exiting\")\n",
        "        break\n",
        "\n",
        "    # otherwise, evaluate the user input\n",
        "    # print invalid input if the AI is unable to comprehend the input\n",
        "    try:\n",
        "        response = Bot.get_response(user_input)\n",
        "        print(\"Calculator:\", response)\n",
        "    except:\n",
        "        print(\"Calculator: Please enter valid input.\")"
      ],
      "execution_count": 2,
      "outputs": [
        {
          "output_type": "stream",
          "text": [
            "\u001bc\n",
            "Hello, I am a calculator. How may I help you?\n",
            "me: What is 2 plus 2?\n",
            "Calculator: 2 plus 2 = 4\n",
            "me: two plus 2\n",
            "Calculator: two plus 2 = 4\n",
            "me: five minus 3\n",
            "Calculator: five minus 3 = 2\n",
            "me: 5 - 3\n",
            "Calculator: 5 - 3 = 2\n",
            "me: bye\n",
            "Calculator: Please enter valid input.\n",
            "me: quit\n",
            "Exiting\n"
          ],
          "name": "stdout"
        }
      ]
    },
    {
      "cell_type": "code",
      "metadata": {
        "id": "Jpsi4ecfBS_D"
      },
      "source": [
        ""
      ],
      "execution_count": null,
      "outputs": []
    }
  ]
}